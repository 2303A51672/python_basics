{
  "nbformat": 4,
  "nbformat_minor": 0,
  "metadata": {
    "colab": {
      "provenance": [],
      "authorship_tag": "ABX9TyNzHjwnHr5x8PEkR3NMzlCG",
      "include_colab_link": true
    },
    "kernelspec": {
      "name": "python3",
      "display_name": "Python 3"
    },
    "language_info": {
      "name": "python"
    }
  },
  "cells": [
    {
      "cell_type": "markdown",
      "metadata": {
        "id": "view-in-github",
        "colab_type": "text"
      },
      "source": [
        "<a href=\"https://colab.research.google.com/github/2303A51672/python_basics/blob/main/basics.ipynb\" target=\"_parent\"><img src=\"https://colab.research.google.com/assets/colab-badge.svg\" alt=\"Open In Colab\"/></a>"
      ]
    },
    {
      "cell_type": "code",
      "execution_count": 15,
      "metadata": {
        "colab": {
          "base_uri": "https://localhost:8080/"
        },
        "id": "4lL17H9v2aFn",
        "outputId": "755397a2-2484-4413-cf36-5749c6fb7bbc"
      },
      "outputs": [
        {
          "output_type": "stream",
          "name": "stdout",
          "text": [
            "in the list\n",
            "[2, 4, 1, 5, 0, 8, 4, 19]\n",
            "[2, 1, 5, 0, 8, 4, 19]\n"
          ]
        }
      ],
      "source": [
        "l=[2,4,1,5,0,8,4]\n",
        "if 2 in l:\n",
        "  print(\"in the list\")\n",
        "else:\n",
        "  print(\"not in the list\")\n",
        "l.append(19)\n",
        "print(l)\n",
        "l.remove(4)\n",
        "print(l)"
      ]
    },
    {
      "cell_type": "code",
      "source": [
        "l=[12,56,34,23,22]\n",
        "l.append(19)\n",
        "print(l)"
      ],
      "metadata": {
        "colab": {
          "base_uri": "https://localhost:8080/"
        },
        "id": "ZrzO7IRV3EuO",
        "outputId": "8b49911e-1ace-4d64-c11e-74aab293621a"
      },
      "execution_count": 8,
      "outputs": [
        {
          "output_type": "stream",
          "name": "stdout",
          "text": [
            "[12, 56, 34, 23, 22, 19]\n"
          ]
        }
      ]
    },
    {
      "cell_type": "code",
      "source": [
        "student=[[2,3,4],[5,6,7],[8,9,0]]\n",
        "print(student)"
      ],
      "metadata": {
        "colab": {
          "base_uri": "https://localhost:8080/"
        },
        "id": "aPKPWfTa6Iup",
        "outputId": "5130bc6a-67a3-415b-bc6d-572ac77e0fa8"
      },
      "execution_count": 24,
      "outputs": [
        {
          "output_type": "stream",
          "name": "stdout",
          "text": [
            "[[2, 3, 4], [5, 6, 7], [8, 9, 0]]\n"
          ]
        }
      ]
    },
    {
      "cell_type": "code",
      "source": [
        "M=(23,54,34,12,23)\n",
        "print(M)"
      ],
      "metadata": {
        "colab": {
          "base_uri": "https://localhost:8080/"
        },
        "id": "u46rNVrF6nGp",
        "outputId": "eded187c-96ea-4e2c-db15-4f5744e950eb"
      },
      "execution_count": 25,
      "outputs": [
        {
          "output_type": "stream",
          "name": "stdout",
          "text": [
            "(23, 54, 34, 12, 23)\n"
          ]
        }
      ]
    },
    {
      "cell_type": "code",
      "source": [
        "M=(23,54,34,12,23.2,'mani')\n",
        "for i in M:\n",
        "  print(type(i),i)"
      ],
      "metadata": {
        "colab": {
          "base_uri": "https://localhost:8080/"
        },
        "id": "AHKac1_S7eb4",
        "outputId": "c4d5fbab-f88b-467e-8497-6f8635c516f7"
      },
      "execution_count": 34,
      "outputs": [
        {
          "output_type": "stream",
          "name": "stdout",
          "text": [
            "<class 'int'> 23\n",
            "<class 'int'> 54\n",
            "<class 'int'> 34\n",
            "<class 'int'> 12\n",
            "<class 'float'> 23.2\n",
            "<class 'str'> mani\n"
          ]
        }
      ]
    },
    {
      "cell_type": "code",
      "source": [
        "M=(23,54,34,12,23)\n",
        "if 23 in M:\n",
        "  print(\"in the list\")\n",
        "else:\n",
        "  print(\"not in the list\")"
      ],
      "metadata": {
        "colab": {
          "base_uri": "https://localhost:8080/"
        },
        "id": "Dq_TMJQM8QCj",
        "outputId": "a52aba74-4d49-4f54-e262-5bf84473aa00"
      },
      "execution_count": 35,
      "outputs": [
        {
          "output_type": "stream",
          "name": "stdout",
          "text": [
            "in the list\n"
          ]
        }
      ]
    },
    {
      "cell_type": "code",
      "source": [
        "M=(2,54,34,2,23)\n",
        "print(M.count(2))"
      ],
      "metadata": {
        "colab": {
          "base_uri": "https://localhost:8080/"
        },
        "id": "7hGEYt1P8oVE",
        "outputId": "f73810e5-74ba-4011-abeb-43b85ffb25c1"
      },
      "execution_count": 38,
      "outputs": [
        {
          "output_type": "stream",
          "name": "stdout",
          "text": [
            "2\n"
          ]
        }
      ]
    }
  ]
}